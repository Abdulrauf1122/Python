import shutil

def move_file(src_filepath, dest_filepath):
    shutil.move(src_filepath, dest_filepath)

# The path of the file you want to move
src_filepath = '/content/ydrm75xywg-1/dataset/'  # replace with your file path

# The path where you want to move the file
dest_filepath = '/content/drive/MyDrive/CASD_Dataset/'  # replace with your destination path

move_file(src_filepath, dest_filepath)
